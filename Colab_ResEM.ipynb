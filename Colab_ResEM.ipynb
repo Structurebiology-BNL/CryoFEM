{
 "cells": [
  {
   "cell_type": "markdown",
   "id": "becdd64a",
   "metadata": {
    "colab_type": "text",
    "id": "view-in-github"
   },
   "source": [
    "<a href=\"https://colab.research.google.com/github/Structurebiology-BNL/ResEM/blob/main/Colab_ResEM.ipynb\" target=\"_parent\"><img src=\"https://colab.research.google.com/assets/colab-badge.svg\" alt=\"Open In Colab\"/></a>"
   ]
  },
  {
   "cell_type": "code",
   "execution_count": null,
   "id": "vRm60F-X-72-",
   "metadata": {
    "id": "vRm60F-X-72-"
   },
   "outputs": [],
   "source": [
    "#@title Upload your half maps or using half maps from EMDB: {display-mode: \"form\"}\n",
    "#@markdown - You will be first asked to mount the Google drive with your google account.\n",
    "from google.colab import drive\n",
    "drive.mount('/content/drive')\n",
    "from google.colab import files\n",
    "#@markdown - Upload could take a while depending on the size of the map\n",
    "#@markdown  - Please upload one half map at a time\n",
    "#@markdown  - Cancel upload to download EMDB map instead\n",
    "half_map_1, half_map_2, uploaded_map = None, None, None\n",
    "print(\"\\nChoose the first half map to uplodad:\")\n",
    "half_map_1 = files.upload()\n",
    "if half_map_1:\n",
    "    uploaded_map = list(half_map_1.keys())\n",
    "print(\"\\nChoose the second half map to uplodad:\")\n",
    "half_map_2 = files.upload()\n",
    "if half_map_2:\n",
    "    uploaded_map += list(half_map_2.keys())\n",
    "if uploaded_map:\n",
    "    print(\"\\n Uploading finished\")\n",
    "#@markdown - Alternatively, you can choose to download half-maps from EMDB instead. {display-mode: \"form\"}\n",
    "#@markdown  - Make sure that the corresponding EMDB entry has half maps\n",
    "EMDB_ID = 23274  #@param {type: \"number\"}\n",
    "#@markdown After starting the session, make sure to change the `runtime type` in the `Runtime` menu to use GPU for faster performance."
   ]
  },
  {
   "cell_type": "code",
   "execution_count": 30,
   "id": "9gB76RrV-esz",
   "metadata": {
    "id": "9gB76RrV-esz"
   },
   "outputs": [],
   "source": [
    "#@title Install and import packages {display-mode: \"form\"}\n",
    "#@markdown Run this cell and Colab will: \n",
    "#@markdown - Install necessary python packages\n",
    "#@markdown - Download ResEM model\n",
    "#@markdown - Preprocess the uploaded maps or download maps from EMDB\n",
    "#%%capture --no-stderr --no-display\n",
    "!pip install -q mrcfile torchio gemmi\n",
    "!pip install -q torch torchvision -f https://download.pytorch.org/whl/cu116/torch_stable.html\n",
    "print(\"Package installazation finished\")\n",
    "!git clone https://github.com/Structurebiology-BNL/ResEM\n",
    "%cd ResEM\n",
    "!wget -O model_weights.pt 'https://docs.google.com/uc?export=download&id=1hCaEbYxQV56JIpN2c2iJSiiKAgRu7TT6&confirm=t'\n",
    "print(\"ResEM download finished\")\n",
    "import torch\n",
    "import torchio\n",
    "from tqdm import tqdm\n",
    "import mrcfile\n",
    "from utils.utils import download_half_maps\n",
    "from models.map_splitter import reconstruct_maps, map_resample\n",
    "from models.unet import UNetRes\n",
    "\n",
    "if uploaded_map:\n",
    "    file_path_1 = \"/content/\" + uploaded_map[0]\n",
    "    if len(uploaded_map) == 1:\n",
    "        print(\n",
    "            \"only one half map is uploaded, will proceed to enhance a single half map\"\n",
    "        )\n",
    "        input_map = mrcfile.open(file_path_1, mode=\"r\")\n",
    "        raw_map, input_data, meta_data = map_resample(input_map)\n",
    "    elif len(uploaded_map) == 2:\n",
    "        file_path_2 = \"/content/\" + uploaded_map[1]\n",
    "        half_map_1 = mrcfile.open(file_path_1, mode=\"r\")\n",
    "        half_map_2 = mrcfile.open(file_path_2, mode=\"r\")\n",
    "        raw_map, input_data, meta_data = map_resample(\n",
    "            half_map_1, input_map_2=half_map_2\n",
    "        )\n",
    "    else:\n",
    "        print(\"no valid half maps are provided\")\n",
    "else:\n",
    "    assert isinstance(int(EMDB_ID), int), \"EMDB ID must be an integer\"\n",
    "    download_succesful = download_half_maps(EMDB_ID)\n",
    "    if download_succesful:\n",
    "        print(\"Read downloaded map EMDB-{} and resample\".format(EMDB_ID))\n",
    "        input_map = mrcfile.open(\"averaged_map_{}.ccp4\".format(EMDB_ID), mode=\"r\")\n",
    "        raw_map, input_data, meta_data = map_resample(input_map)\n",
    "    else:\n",
    "        print(\"No valid half maps found for EMDB-{}\".format(EMDB_ID))\n",
    "print(\"\\nResampled map ready\")"
   ]
  },
  {
   "cell_type": "code",
   "execution_count": null,
   "id": "a6a54dba-bb61-4ffa-b547-8bcfd503ff09",
   "metadata": {},
   "outputs": [],
   "source": [
    "# @title Run prediction {display-mode: \"form\"}\n",
    "# @markdown - The prediction should be done in less than a minute if using GPU\n",
    "device = torch.device(\"cuda\") if torch.cuda.is_available() else \"cpu\"\n",
    "model = UNetRes(n_blocks=2, act_mode=\"R\")\n",
    "checkpoint = torch.load(\"/content/ResEM/model_weights.pt\", map_location=\"cpu\")\n",
    "model.load_state_dict(checkpoint)\n",
    "model = model.to(device)\n",
    "\n",
    "batch_size = 16\n",
    "torch.backends.cudnn.benchmark = True\n",
    "model.eval()\n",
    "with torch.no_grad():\n",
    "    y_pred = torch.tensor(())\n",
    "    print(\"Start prediction...\")\n",
    "    for indx in tqdm(range(0, input_data.shape[0], batch_size)):\n",
    "        x_partial = input_data[indx : indx + batch_size].unsqueeze(dim=1).to(device)\n",
    "        y_pred_partial = model(x_partial)\n",
    "        y_pred = torch.cat(\n",
    "            (y_pred, y_pred_partial.squeeze(dim=1).detach().cpu()),\n",
    "            dim=0,\n",
    "        )\n",
    "    original_shape = (\n",
    "        int(meta_data.cella.x),\n",
    "        int(meta_data.cella.y),\n",
    "        int(meta_data.cella.z),\n",
    "    )\n",
    "    y_pred_recon = reconstruct_maps(\n",
    "        y_pred.numpy(),\n",
    "        original_shape,\n",
    "    )\n",
    "    with mrcfile.new(\"pred_map.mrc\") as mrc:\n",
    "        mrc.set_data(y_pred_recon)\n",
    "        mrc.header.cella.x = meta_data.cella.x\n",
    "        mrc.header.cella.y = meta_data.cella.y\n",
    "        mrc.header.cella.z = meta_data.cella.z\n",
    "        mrc.header.nxstart = meta_data.nxstart\n",
    "        mrc.header.nystart = meta_data.nystart\n",
    "        mrc.header.nzstart = meta_data.nzstart\n",
    "    print(\"\\nPrediction done!\")"
   ]
  },
  {
   "cell_type": "code",
   "execution_count": null,
   "id": "HW4r9W59E9AM",
   "metadata": {
    "id": "HW4r9W59E9AM"
   },
   "outputs": [],
   "source": [
    "#@title Visualization {display-mode: \"form\"}\n",
    "#@markdown - The upper rows are the raw map (resampled and normalized to [0, 1])\n",
    "#@markdown - The lower rows are the enhanced map\n",
    "raw_map = (raw_map - raw_map.min()) / (raw_map.max() - raw_map.min())\n",
    "raw_map = torchio.ScalarImage(tensor=torch.from_numpy(raw_map).unsqueeze(dim=0))\n",
    "raw_map.plot(\n",
    "    figsize=(12, 9),\n",
    "    radiological=False,\n",
    ")\n",
    "pred_map = torchio.ScalarImage(tensor=torch.from_numpy(y_pred_recon).unsqueeze(dim=0))\n",
    "pred_map.plot(\n",
    "    figsize=(12, 9),\n",
    "    radiological=False,\n",
    ")"
   ]
  },
  {
   "cell_type": "code",
   "execution_count": null,
   "id": "aTz1hag4FVKt",
   "metadata": {
    "id": "aTz1hag4FVKt"
   },
   "outputs": [],
   "source": [
    "#@title Download enhanced map {display-mode: \"form\"}\n",
    "#@markdown Please wait for a while for the pop up window of the browser to show up \n",
    "files.download(\"/content/ResEM/pred_map.mrc\")"
   ]
  }
 ],
 "metadata": {
  "accelerator": "GPU",
  "colab": {
   "include_colab_link": true,
   "provenance": []
  },
  "gpuClass": "standard",
  "kernelspec": {
   "display_name": "Python 3 (ipykernel)",
   "language": "python",
   "name": "python3"
  },
  "language_info": {
   "codemirror_mode": {
    "name": "ipython",
    "version": 3
   },
   "file_extension": ".py",
   "mimetype": "text/x-python",
   "name": "python",
   "nbconvert_exporter": "python",
   "pygments_lexer": "ipython3",
   "version": "3.9.15"
  }
 },
 "nbformat": 4,
 "nbformat_minor": 5
}
