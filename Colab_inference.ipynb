{
 "cells": [
  {
   "cell_type": "code",
   "execution_count": 6,
   "id": "961d8144-b30a-43b1-b661-06b89009d97a",
   "metadata": {},
   "outputs": [],
   "source": [
    "import torch\n",
    "import json\n",
    "from copy import deepcopy\n",
    "from pathlib import Path\n",
    "from timeit import default_timer as timer\n",
    "from tqdm import tqdm\n",
    "import mrcfile\n",
    "from models.map_splitter import reconstruct_maps, create_cube_list\n",
    "from models.unet import UNetRes\n",
    "from utils.utils import load_data\n",
    "import numpy as np\n",
    "import skimage"
   ]
  },
  {
   "cell_type": "code",
   "execution_count": 2,
   "id": "e15753f5-f672-4ac3-8c39-bcfd7f24fc32",
   "metadata": {},
   "outputs": [],
   "source": [
    "with open(\"configs/inference.json\", \"r\") as f:\n",
    "    conf = json.load(f)\n",
    "\n",
    "device = (\n",
    "        torch.device(\"cuda\")\n",
    "        if torch.cuda.is_available()\n",
    "        else \"cpu\"\n",
    "    )\n",
    "with open(conf[\"checkpoint\"][\"model_config\"], \"r\") as f:\n",
    "    model_conf = json.load(f)\n",
    "    \n",
    "conf = {**conf, **model_conf}\n",
    "dataloader = load_data(conf, training=False)"
   ]
  },
  {
   "cell_type": "code",
   "execution_count": 22,
   "id": "129c030e-c8b2-4ffd-a5a1-c0e2054d4e60",
   "metadata": {},
   "outputs": [],
   "source": [
    "model = UNetRes(n_blocks=conf[\"model\"][\"n_blocks\"], act_mode=conf[\"model\"][\"act_mode\"])\n",
    "checkpoint = torch.load(conf[\"checkpoint\"][\"trained_weights\"], map_location=\"cpu\")\n",
    "model.load_state_dict(checkpoint)\n",
    "model = model.to(device)"
   ]
  },
  {
   "cell_type": "code",
   "execution_count": 3,
   "id": "0c266738-1bb1-4df3-8de1-534065218ceb",
   "metadata": {},
   "outputs": [],
   "source": [
    "input_map = mrcfile.open(\"example_data/emd_23099/resampled_map.mrc\", mode=\"r\")"
   ]
  },
  {
   "cell_type": "code",
   "execution_count": 31,
   "id": "01abe90b-98da-4c8c-9508-be4be516b46f",
   "metadata": {},
   "outputs": [],
   "source": [
    "def map_resample(input_map):\n",
    "    vol_x, vol_y, vol_z = (\n",
    "        float(input_map.voxel_size.x),\n",
    "        float(input_map.voxel_size.y),\n",
    "        float(input_map.voxel_size.z),\n",
    "    )\n",
    "    voxel_size = [vol_x, vol_y, vol_z]\n",
    "    meta_data = deepcopy(input_map.header)\n",
    "    input_map = deepcopy(input_map.data)\n",
    "    scale_factor = [vol / 1.0 for vol in voxel_size]\n",
    "    output_shape = [\n",
    "        round(dim * scale) for dim, scale in zip(input_map.shape, scale_factor)\n",
    "    ]\n",
    "\n",
    "    input_map = skimage.transform.resize(\n",
    "        input_map,\n",
    "        output_shape,\n",
    "        order=3,\n",
    "        mode=\"reflect\",\n",
    "        cval=0,\n",
    "        clip=True,\n",
    "        preserve_range=False,\n",
    "        anti_aliasing=True,\n",
    "        anti_aliasing_sigma=None,\n",
    "    )\n",
    "\n",
    "    input_map = (input_map - input_map.min()) / (input_map.max() - input_map.min())\n",
    "    input_cube_list = np.array(create_cube_list(input_map))\n",
    "\n",
    "    return torch.tensor(input_cube_list, dtype=torch.float), meta_data"
   ]
  },
  {
   "cell_type": "code",
   "execution_count": 32,
   "id": "6fbe7fe3-45ef-4213-a109-13bf14ff3c9f",
   "metadata": {},
   "outputs": [],
   "source": [
    "input_data, meta_data = map_resample(input_map)"
   ]
  },
  {
   "cell_type": "code",
   "execution_count": 37,
   "id": "5aa94ca1-e6e9-4e22-b577-ee7cd645c5aa",
   "metadata": {},
   "outputs": [
    {
     "name": "stderr",
     "output_type": "stream",
     "text": [
      "100%|████████████████████████████████████████████████| 8/8 [00:10<00:00,  1.28s/it]\n"
     ]
    }
   ],
   "source": [
    "batch_size = 16\n",
    "torch.backends.cudnn.benchmark = True\n",
    "model.eval()\n",
    "with torch.no_grad():\n",
    "    y_pred = torch.tensor(())\n",
    "    for indx in tqdm(range(0, input_data.shape[0], batch_size)):\n",
    "        x_partial = input_data[indx : indx + batch_size].unsqueeze(dim=1).to(device)\n",
    "        y_pred_partial = model(x_partial)\n",
    "        y_pred = torch.cat(\n",
    "            (y_pred, y_pred_partial.squeeze(dim=1).detach().cpu()),\n",
    "            dim=0,\n",
    "        )\n",
    "    original_shape = (\n",
    "        int(meta_data.cella.x),\n",
    "        int(meta_data.cella.y),\n",
    "        int(meta_data.cella.z),\n",
    "    )\n",
    "    y_pred_recon = reconstruct_maps(\n",
    "        y_pred.numpy(),\n",
    "        original_shape,\n",
    "    )\n",
    "    # if conf[\"test_data\"][\"save_output\"]:\n",
    "    #     with mrcfile.new(conf[\"output_path\"] + \"/pred_{}.mrc\".format(id[0])) as mrc:\n",
    "    #         mrc.set_data(y_pred_recon)\n",
    "    #         mrc.header.cella.x = meta_data.cella.x\n",
    "    #         mrc.header.cella.y = meta_data.cella.y\n",
    "    #         mrc.header.cella.z = meta_data.cella.z\n",
    "    #         mrc.header.nxstart = meta_data.nxstart\n",
    "    #         mrc.header.nystart = meta_data.nystart\n",
    "    #         mrc.header.nzstart = meta_data.nzstart"
   ]
  },
  {
   "cell_type": "code",
   "execution_count": null,
   "id": "765f5faa-4cfd-436c-914a-882d313a4895",
   "metadata": {},
   "outputs": [],
   "source": []
  }
 ],
 "metadata": {
  "kernelspec": {
   "display_name": "Python 3 (ipykernel)",
   "language": "python",
   "name": "python3"
  },
  "language_info": {
   "codemirror_mode": {
    "name": "ipython",
    "version": 3
   },
   "file_extension": ".py",
   "mimetype": "text/x-python",
   "name": "python",
   "nbconvert_exporter": "python",
   "pygments_lexer": "ipython3",
   "version": "3.9.15"
  }
 },
 "nbformat": 4,
 "nbformat_minor": 5
}
